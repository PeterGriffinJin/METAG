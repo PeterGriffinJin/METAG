{
 "cells": [
  {
   "cell_type": "code",
   "execution_count": null,
   "id": "2b048a9e",
   "metadata": {
    "scrolled": true
   },
   "outputs": [],
   "source": [
    "import seaborn as sns\n",
    "import numpy as np\n",
    "import matplotlib.pyplot as plt\n",
    "import pandas as pd\n",
    "\n",
    "%matplotlib inline"
   ]
  },
  {
   "cell_type": "code",
   "execution_count": null,
   "id": "9d4ce770",
   "metadata": {},
   "outputs": [],
   "source": [
    "sns.set(font_scale=2)"
   ]
  },
  {
   "cell_type": "code",
   "execution_count": null,
   "id": "a2def973",
   "metadata": {},
   "outputs": [],
   "source": [
    "# results\n",
    "geology = [[0.5762,0.3051,0.0256,0.1922,0.3064],\n",
    "[0.3214,0.6045,0.0257,0.1074,0.1793],\n",
    "[0.086,0.1238,0.1354,0.0459,0.0768],\n",
    "[0.4429,0.2584,0.0232,0.1866,0.2503],\n",
    "[0.5023,0.2805,0.0244,0.1708,0.3035]]\n",
    "\n",
    "cloth = [[0.8052,0.7581,0.8396,0.4602],\n",
    "[0.7425,0.8091,0.7811,0.4312],\n",
    "[0.7738,0.7477,0.8887,0.4504],\n",
    "[0.5128,0.5159,0.5435,0.6924]]"
   ]
  },
  {
   "cell_type": "code",
   "execution_count": null,
   "id": "fc55e147",
   "metadata": {
    "scrolled": true
   },
   "outputs": [],
   "source": [
    "geology = pd.DataFrame(np.array(geology))\n",
    "geology.columns = ['pp','pap','pvp','prp','pcp']\n",
    "geology = geology.rename(index={0: 'pp', 1: 'pap', 2: 'pvp', 3: 'prp', 4: 'pcp'})\n",
    "\n",
    "cloth = pd.DataFrame(np.array(cloth))\n",
    "cloth.columns = ['cop','cov','bt','cob']\n",
    "cloth = cloth.rename(index={0: 'cop', 1: 'cov', 2: 'bt', 3: 'cob'})"
   ]
  },
  {
   "cell_type": "code",
   "execution_count": null,
   "id": "9da57313",
   "metadata": {
    "scrolled": false
   },
   "outputs": [],
   "source": [
    "f, ax= plt.subplots(figsize = (8, 8))\n",
    "sns.set_context({\"figure.figsize\":(8,8)})\n",
    "sns.heatmap(data=geology,square=True,ax = ax, cmap=\"crest\") \n",
    "\n",
    "ax.xaxis.tick_top()\n",
    "ax.xaxis.set_label_position('top')\n",
    "\n",
    "ax.set_xlabel('Target relation')\n",
    "ax.set_ylabel('Source relation')\n",
    "\n",
    "plt.savefig('cross_relation_geology.pdf', dpi=199,  bbox_inches='tight')"
   ]
  },
  {
   "cell_type": "code",
   "execution_count": null,
   "id": "2b3e8e62",
   "metadata": {},
   "outputs": [],
   "source": [
    "f, ax= plt.subplots(figsize = (8, 8))\n",
    "sns.set_context({\"figure.figsize\":(8,8)})\n",
    "sns.heatmap(data=cloth,square=True,ax = ax, cmap=\"crest\") \n",
    "\n",
    "ax.xaxis.tick_top()\n",
    "ax.xaxis.set_label_position('top')\n",
    "\n",
    "ax.set_xlabel('Target relation')\n",
    "ax.set_ylabel('Source relation')\n",
    "\n",
    "plt.savefig('cross_relation_cloth.pdf', dpi=199,  bbox_inches='tight')"
   ]
  },
  {
   "cell_type": "code",
   "execution_count": null,
   "id": "ba046d54",
   "metadata": {},
   "outputs": [],
   "source": []
  },
  {
   "cell_type": "code",
   "execution_count": null,
   "id": "4196a46e",
   "metadata": {},
   "outputs": [],
   "source": []
  }
 ],
 "metadata": {
  "kernelspec": {
   "display_name": "Python 3 (ipykernel)",
   "language": "python",
   "name": "python3"
  },
  "language_info": {
   "codemirror_mode": {
    "name": "ipython",
    "version": 3
   },
   "file_extension": ".py",
   "mimetype": "text/x-python",
   "name": "python",
   "nbconvert_exporter": "python",
   "pygments_lexer": "ipython3",
   "version": "3.8.13"
  }
 },
 "nbformat": 4,
 "nbformat_minor": 5
}
