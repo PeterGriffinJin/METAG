{
 "cells": [
  {
   "cell_type": "code",
   "execution_count": null,
   "id": "2b048a9e",
   "metadata": {
    "scrolled": true
   },
   "outputs": [],
   "source": [
    "import seaborn as sns\n",
    "import numpy as np\n",
    "import matplotlib.pyplot as plt\n",
    "import pandas as pd\n",
    "\n",
    "%matplotlib inline"
   ]
  },
  {
   "cell_type": "code",
   "execution_count": null,
   "id": "9d4ce770",
   "metadata": {},
   "outputs": [],
   "source": [
    "sns.set(font_scale=2)"
   ]
  },
  {
   "cell_type": "markdown",
   "id": "3a90c4b2",
   "metadata": {},
   "source": [
    "## price prediction"
   ]
  },
  {
   "cell_type": "code",
   "execution_count": null,
   "id": "a2def973",
   "metadata": {},
   "outputs": [],
   "source": [
    "cloth = [[1.6826e-06, 3.6927e-07, 3.4463e-05, 1.1856e-03, 2.5686e-05, 1.3123e-03,\n",
    "         1.6108e-04, 1.9742e-02, 9.1476e-01, 2.1346e-02, 1.7937e-03, 5.1350e-06,\n",
    "         5.1190e-04, 3.8053e-02, 8.7078e-04, 7.5905e-08, 3.8920e-08, 1.3167e-07,\n",
    "         1.9430e-04, 3.8403e-06],\n",
    "        [2.6650e-06, 5.6521e-07, 3.5937e-05, 1.2693e-03, 4.4161e-05, 1.9129e-03,\n",
    "         2.3026e-04, 3.9953e-02, 8.8825e-01, 3.3644e-02, 1.3832e-03, 6.1903e-06,\n",
    "         4.2434e-04, 3.1482e-02, 1.1602e-03, 9.9182e-08, 5.4988e-08, 2.2264e-07,\n",
    "         1.9089e-04, 6.0676e-06],\n",
    "        [5.2916e-06, 1.1124e-06, 6.6381e-05, 1.0132e-04, 1.3824e-03, 3.0076e-03,\n",
    "         3.6344e-04, 3.1096e-02, 5.2280e-02, 8.6714e-01, 2.6130e-03, 1.2818e-05,\n",
    "         7.6790e-04, 2.3979e-03, 3.8549e-02, 2.0418e-07, 1.1320e-07, 5.1230e-07,\n",
    "         1.4841e-05, 2.0032e-04],\n",
    "        [2.8789e-06, 6.2442e-07, 4.7471e-05, 2.5290e-04, 9.4330e-04, 2.1341e-03,\n",
    "         2.5638e-04, 2.9117e-02, 1.6953e-01, 7.5387e-01, 2.4563e-03, 8.7813e-06,\n",
    "         6.2960e-04, 7.6851e-03, 3.2865e-02, 1.3557e-07, 7.2849e-08, 2.7926e-07,\n",
    "         4.2720e-05, 1.5429e-04],\n",
    "        [6.5754e-06, 1.2735e-06, 9.4202e-05, 2.9330e-04, 3.1589e-04, 4.5080e-03,\n",
    "         5.0087e-04, 5.4606e-01, 1.9019e-01, 2.3856e-01, 3.4564e-03, 1.4016e-05,\n",
    "         7.7424e-04, 6.7673e-03, 8.3565e-03, 3.5501e-07, 1.5328e-07, 8.7182e-07,\n",
    "         5.0793e-05, 5.3596e-05]]\n",
    "\n",
    "home = [[9.8210e-04, 8.7911e-02, 3.5648e-04, 2.9698e-04, 6.9377e-05, 5.1371e-03,\n",
    "         6.9418e-01, 1.8724e-03, 2.8370e-03, 6.5887e-04, 4.5461e-04, 1.9277e-01,\n",
    "         1.9541e-03, 5.6439e-04, 1.3743e-04, 5.0256e-06, 9.7580e-03, 5.4553e-06,\n",
    "         4.0309e-05, 1.0272e-05],\n",
    "        [5.8666e-04, 3.1159e-02, 4.1126e-04, 2.6566e-04, 6.8829e-05, 1.1485e-02,\n",
    "         8.8086e-01, 3.2975e-02, 1.0215e-02, 2.6700e-03, 2.1598e-04, 2.6808e-02,\n",
    "         2.0329e-04, 2.3767e-04, 6.6842e-05, 1.2606e-06, 1.7391e-03, 2.2386e-06,\n",
    "         2.0545e-05, 6.1809e-06],\n",
    "        [2.0557e-05, 1.1861e-06, 2.0799e-05, 4.1815e-06, 1.9047e-06, 4.9137e-03,\n",
    "         1.9850e-04, 9.9288e-01, 1.2718e-03, 6.5724e-04, 1.7878e-05, 9.0764e-07,\n",
    "         1.5200e-06, 5.0928e-06, 2.7044e-06, 5.4031e-08, 7.0746e-08, 1.1217e-07,\n",
    "         4.5684e-07, 2.5526e-07],\n",
    "        [5.1436e-05, 8.8948e-06, 1.9756e-04, 2.8079e-04, 2.4485e-05, 3.6201e-03,\n",
    "         7.0179e-04, 9.3926e-01, 4.9779e-02, 4.4877e-03, 4.1906e-04, 1.6308e-05,\n",
    "         1.0051e-04, 9.3884e-04, 9.3321e-05, 8.6270e-08, 3.0705e-07, 1.3414e-07,\n",
    "         1.8579e-05, 1.8699e-06],\n",
    "        [1.8583e-05, 1.4586e-05, 4.3544e-05, 1.3400e-04, 9.2988e-06, 2.6047e-05,\n",
    "         2.6207e-05, 1.3729e-05, 2.9240e-04, 2.0660e-05, 1.1475e-03, 3.6390e-04,\n",
    "         9.9349e-01, 4.0444e-03, 2.6623e-04, 3.7681e-06, 5.9803e-06, 1.6951e-06,\n",
    "         6.9757e-05, 4.7170e-06]]\n",
    "\n",
    "sports = [[1.8115e-05, 1.6858e-06, 5.5555e-05, 1.1683e-03, 8.9317e-06, 2.1320e-03,\n",
    "         2.3458e-04, 1.9570e-01, 7.8621e-01, 4.9960e-03, 1.0824e-04, 2.6315e-06,\n",
    "         3.4901e-05, 9.2250e-03, 5.1030e-05, 1.8401e-08, 1.5801e-08, 1.4614e-08,\n",
    "         4.6237e-05, 3.0761e-07],\n",
    "        [1.0611e-05, 1.0614e-06, 3.6908e-05, 1.6351e-03, 5.7646e-06, 1.0434e-03,\n",
    "         1.2486e-04, 5.0667e-02, 9.3388e-01, 2.6644e-03, 5.1342e-05, 1.2458e-06,\n",
    "         1.4453e-05, 9.7840e-03, 2.4803e-05, 9.3641e-09, 8.9005e-09, 8.4268e-09,\n",
    "         5.8064e-05, 1.7738e-07],\n",
    "        [8.5509e-06, 8.9120e-07, 2.5943e-05, 1.3345e-03, 5.2694e-06, 1.0807e-03,\n",
    "         1.3162e-04, 6.9255e-02, 9.1226e-01, 2.9492e-03, 6.1690e-05, 1.7440e-06,\n",
    "         2.4205e-05, 1.2761e-02, 3.5287e-05, 1.2700e-08, 1.0570e-08, 1.0529e-08,\n",
    "         6.5412e-05, 2.1861e-07],\n",
    "        [4.8396e-06, 5.4979e-07, 1.8602e-05, 8.7041e-04, 4.2788e-06, 8.4694e-04,\n",
    "         1.1734e-04, 7.2464e-02, 9.0373e-01, 3.6503e-03, 9.8424e-05, 2.2249e-06,\n",
    "         5.2785e-05, 1.8038e-02, 5.9002e-05, 8.4136e-09, 6.7079e-09, 5.4963e-09,\n",
    "         4.5682e-05, 1.8779e-07],\n",
    "        [1.0438e-05, 1.2124e-06, 3.5604e-05, 1.7769e-03, 5.3122e-06, 9.6608e-04,\n",
    "         1.3622e-04, 4.5470e-02, 9.3495e-01, 2.2550e-03, 6.9983e-05, 1.9940e-06,\n",
    "         2.7060e-05, 1.4196e-02, 3.0040e-05, 1.1220e-08, 1.1308e-08, 8.9107e-09,\n",
    "         6.8495e-05, 1.7415e-07]]"
   ]
  },
  {
   "cell_type": "code",
   "execution_count": null,
   "id": "fc55e147",
   "metadata": {
    "scrolled": true
   },
   "outputs": [],
   "source": [
    "cloth = pd.DataFrame(np.transpose(np.array(cloth)))\n",
    "\n",
    "cloth.columns = [0, 1, 2, 3, 4]\n",
    "cloth = cloth.rename(index={0:' ',1:' ',2:'cop',3:' ',4:' ',\n",
    "                               5:' ',6:' ',7:'cov',8:' ',9:' ',\n",
    "                               10:' ',11:' ',12:'bt',13:' ',14:' ',\n",
    "                               15:' ',16:' ',17:'cob',18:' ',19:' '})"
   ]
  },
  {
   "cell_type": "code",
   "execution_count": null,
   "id": "f69a5de4",
   "metadata": {},
   "outputs": [],
   "source": [
    "home = pd.DataFrame(np.transpose(np.array(home)))\n",
    "\n",
    "home.columns = [0, 1, 2, 3, 4]\n",
    "home = home.rename(index={0:' ',1:' ',2:'cop',3:' ',4:' ',\n",
    "                               5:' ',6:' ',7:'cov',8:' ',9:' ',\n",
    "                               10:' ',11:' ',12:'bt',13:' ',14:' ',\n",
    "                               15:' ',16:' ',17:'cob',18:' ',19:' '})"
   ]
  },
  {
   "cell_type": "code",
   "execution_count": null,
   "id": "a62eb548",
   "metadata": {},
   "outputs": [],
   "source": [
    "sports = pd.DataFrame(np.transpose(np.array(sports)))\n",
    "\n",
    "sports.columns = [0, 1, 2, 3, 4]\n",
    "sports = sports.rename(index={0:' ',1:' ',2:'cop',3:' ',4:' ',\n",
    "                               5:' ',6:' ',7:'cov',8:' ',9:' ',\n",
    "                               10:' ',11:' ',12:'bt',13:' ',14:' ',\n",
    "                               15:' ',16:' ',17:'cob',18:' ',19:' '})"
   ]
  },
  {
   "cell_type": "code",
   "execution_count": null,
   "id": "9da57313",
   "metadata": {
    "scrolled": false
   },
   "outputs": [],
   "source": [
    "from matplotlib import ticker\n",
    "\n",
    "f, ax= plt.subplots(figsize = (20, 20))\n",
    "sns.set_context({\"figure.figsize\":(20,20)})\n",
    "chart = sns.heatmap(data=cloth,square=True,ax = ax) \n",
    "\n",
    "ax.set_xlabel('attention id',fontsize=18)\n",
    "ax.set_ylabel('Source Relation',fontsize=20)\n",
    "ax.tick_params(axis='x', labelsize=20)\n",
    "ax.tick_params(axis='y', labelsize=20)\n",
    "\n",
    "plt.savefig('attention_map/att_cloth_price.pdf', dpi=199,  bbox_inches='tight')"
   ]
  },
  {
   "cell_type": "code",
   "execution_count": null,
   "id": "39a70a1b",
   "metadata": {},
   "outputs": [],
   "source": [
    "from matplotlib import ticker\n",
    "\n",
    "f, ax= plt.subplots(figsize = (20, 20))\n",
    "sns.set_context({\"figure.figsize\":(20,20)})\n",
    "chart = sns.heatmap(data=home,square=True,ax = ax) \n",
    "\n",
    "ax.set_xlabel('attention id',fontsize=18)\n",
    "ax.set_ylabel('Source Relation',fontsize=20)\n",
    "ax.tick_params(axis='x', labelsize=20)\n",
    "ax.tick_params(axis='y', labelsize=20)\n",
    "\n",
    "plt.savefig('attention_map/att_home_price.pdf', dpi=199,  bbox_inches='tight')"
   ]
  },
  {
   "cell_type": "code",
   "execution_count": null,
   "id": "85c585df",
   "metadata": {},
   "outputs": [],
   "source": [
    "from matplotlib import ticker\n",
    "\n",
    "f, ax= plt.subplots(figsize = (20, 20))\n",
    "sns.set_context({\"figure.figsize\":(20,20)})\n",
    "chart = sns.heatmap(data=sports,square=True,ax = ax) \n",
    "\n",
    "ax.set_xlabel('attention id',fontsize=18)\n",
    "ax.set_ylabel('Source Relation',fontsize=20)\n",
    "ax.tick_params(axis='x', labelsize=20)\n",
    "ax.tick_params(axis='y', labelsize=20)\n",
    "\n",
    "plt.savefig('attention_map/att_sports_price.pdf', dpi=199,  bbox_inches='tight')"
   ]
  },
  {
   "cell_type": "code",
   "execution_count": null,
   "id": "edc2462e",
   "metadata": {},
   "outputs": [],
   "source": []
  },
  {
   "cell_type": "markdown",
   "id": "97dceec8",
   "metadata": {},
   "source": [
    "## item classification"
   ]
  },
  {
   "cell_type": "code",
   "execution_count": null,
   "id": "d113e82d",
   "metadata": {},
   "outputs": [],
   "source": [
    "cloth = [[1.1745e-03, 5.7382e-04, 2.1856e-03, 1.4511e-03, 9.5442e-04, 9.6393e-03,\n",
    "         3.8889e-03, 9.4649e-01, 1.1413e-02, 7.9213e-03, 4.2029e-03, 8.1159e-04,\n",
    "         2.5253e-03, 2.5066e-03, 1.7282e-03, 4.7109e-04, 2.7052e-04, 5.2094e-04,\n",
    "         7.5280e-04, 5.1689e-04],\n",
    "        [1.1733e-03, 6.5211e-04, 2.2959e-03, 1.5062e-03, 1.0689e-03, 9.2879e-03,\n",
    "         4.2919e-03, 9.4462e-01, 1.1258e-02, 8.4650e-03, 4.3744e-03, 9.2865e-04,\n",
    "         2.7255e-03, 2.5600e-03, 1.8766e-03, 5.1335e-04, 3.1906e-04, 6.8809e-04,\n",
    "         8.0486e-04, 5.9260e-04],\n",
    "        [1.1182e-03, 5.9882e-04, 2.2111e-03, 1.5043e-03, 1.0038e-03, 9.2490e-03,\n",
    "         4.0584e-03, 9.4527e-01, 1.1830e-02, 8.3232e-03, 4.2573e-03, 8.4737e-04,\n",
    "         2.5490e-03, 2.6063e-03, 1.8242e-03, 4.7417e-04, 2.9014e-04, 6.2086e-04,\n",
    "         8.0462e-04, 5.6144e-04],\n",
    "        [1.1145e-03, 5.8503e-04, 2.1592e-03, 1.5201e-03, 1.0455e-03, 9.0448e-03,\n",
    "         3.8354e-03, 9.4540e-01, 1.1843e-02, 8.5718e-03, 4.1633e-03, 8.2947e-04,\n",
    "         2.4374e-03, 2.6509e-03, 1.9061e-03, 4.8406e-04, 2.9968e-04, 6.5138e-04,\n",
    "         8.5122e-04, 6.0656e-04],\n",
    "        [1.1778e-03, 6.0686e-04, 2.2015e-03, 1.6085e-03, 1.0850e-03, 9.3275e-03,\n",
    "         3.9727e-03, 9.4403e-01, 1.2225e-02, 8.6688e-03, 4.1776e-03, 8.5206e-04,\n",
    "         2.4445e-03, 2.7311e-03, 1.9359e-03, 5.0458e-04, 3.0485e-04, 6.4916e-04,\n",
    "         8.8255e-04, 6.1522e-04]]\n",
    "\n",
    "home = [[0.0040, 0.0025, 0.0062, 0.0061, 0.0043, 0.0248, 0.0138, 0.8135, 0.0397,\n",
    "         0.0282, 0.0105, 0.0038, 0.0105, 0.0102, 0.0072, 0.0024, 0.0016, 0.0026,\n",
    "         0.0047, 0.0034],\n",
    "        [0.0038, 0.0026, 0.0062, 0.0058, 0.0045, 0.0234, 0.0141, 0.8190, 0.0361,\n",
    "         0.0282, 0.0103, 0.0039, 0.0100, 0.0093, 0.0071, 0.0024, 0.0017, 0.0033,\n",
    "         0.0045, 0.0036],\n",
    "        [0.0037, 0.0025, 0.0060, 0.0058, 0.0043, 0.0238, 0.0138, 0.8183, 0.0376,\n",
    "         0.0278, 0.0103, 0.0039, 0.0099, 0.0100, 0.0072, 0.0023, 0.0017, 0.0030,\n",
    "         0.0046, 0.0034],\n",
    "        [0.0038, 0.0024, 0.0058, 0.0061, 0.0046, 0.0242, 0.0134, 0.8147, 0.0388,\n",
    "         0.0294, 0.0101, 0.0037, 0.0094, 0.0102, 0.0076, 0.0024, 0.0017, 0.0032,\n",
    "         0.0049, 0.0038],\n",
    "        [0.0035, 0.0022, 0.0055, 0.0058, 0.0042, 0.0226, 0.0125, 0.8271, 0.0376,\n",
    "         0.0276, 0.0092, 0.0033, 0.0081, 0.0093, 0.0067, 0.0022, 0.0015, 0.0029,\n",
    "         0.0045, 0.0034]]\n",
    "\n",
    "sports = [[0.0416, 0.0842, 0.0071, 0.0040, 0.0039, 0.1761, 0.4055, 0.0794, 0.0254,\n",
    "         0.0240, 0.0065, 0.0853, 0.0115, 0.0054, 0.0050, 0.0019, 0.0276, 0.0020,\n",
    "         0.0018, 0.0017],\n",
    "        [0.0317, 0.0840, 0.0058, 0.0033, 0.0036, 0.1484, 0.4464, 0.0832, 0.0220,\n",
    "         0.0232, 0.0056, 0.0891, 0.0103, 0.0045, 0.0046, 0.0017, 0.0277, 0.0021,\n",
    "         0.0014, 0.0016],\n",
    "        [0.0374, 0.0748, 0.0060, 0.0033, 0.0034, 0.1883, 0.4211, 0.0838, 0.0244,\n",
    "         0.0242, 0.0057, 0.0789, 0.0103, 0.0046, 0.0045, 0.0016, 0.0231, 0.0020,\n",
    "         0.0014, 0.0014],\n",
    "        [0.0342, 0.0704, 0.0064, 0.0042, 0.0044, 0.1724, 0.3946, 0.1060, 0.0307,\n",
    "         0.0313, 0.0069, 0.0810, 0.0116, 0.0062, 0.0062, 0.0019, 0.0251, 0.0023,\n",
    "         0.0020, 0.0021],\n",
    "        [0.0362, 0.1021, 0.0054, 0.0035, 0.0035, 0.1398, 0.4514, 0.0499, 0.0191,\n",
    "         0.0188, 0.0049, 0.1047, 0.0091, 0.0044, 0.0043, 0.0018, 0.0359, 0.0021,\n",
    "         0.0016, 0.0016]]"
   ]
  },
  {
   "cell_type": "code",
   "execution_count": null,
   "id": "3a493e79",
   "metadata": {
    "scrolled": true
   },
   "outputs": [],
   "source": [
    "cloth = pd.DataFrame(np.transpose(np.array(cloth)))\n",
    "\n",
    "cloth.columns = [0, 1, 2, 3, 4]\n",
    "cloth = cloth.rename(index={0:' ',1:' ',2:'cop',3:' ',4:' ',\n",
    "                               5:' ',6:' ',7:'cov',8:' ',9:' ',\n",
    "                               10:' ',11:' ',12:'bt',13:' ',14:' ',\n",
    "                               15:' ',16:' ',17:'cob',18:' ',19:' '})"
   ]
  },
  {
   "cell_type": "code",
   "execution_count": null,
   "id": "9106a2e2",
   "metadata": {},
   "outputs": [],
   "source": [
    "home = pd.DataFrame(np.transpose(np.array(home)))\n",
    "\n",
    "home.columns = [0, 1, 2, 3, 4]\n",
    "home = home.rename(index={0:' ',1:' ',2:'cop',3:' ',4:' ',\n",
    "                               5:' ',6:' ',7:'cov',8:' ',9:' ',\n",
    "                               10:' ',11:' ',12:'bt',13:' ',14:' ',\n",
    "                               15:' ',16:' ',17:'cob',18:' ',19:' '})"
   ]
  },
  {
   "cell_type": "code",
   "execution_count": null,
   "id": "53184822",
   "metadata": {},
   "outputs": [],
   "source": [
    "sports = pd.DataFrame(np.transpose(np.array(sports)))\n",
    "\n",
    "sports.columns = [0, 1, 2, 3, 4]\n",
    "sports = sports.rename(index={0:' ',1:' ',2:'cop',3:' ',4:' ',\n",
    "                               5:' ',6:' ',7:'cov',8:' ',9:' ',\n",
    "                               10:' ',11:' ',12:'bt',13:' ',14:' ',\n",
    "                               15:' ',16:' ',17:'cob',18:' ',19:' '})"
   ]
  },
  {
   "cell_type": "code",
   "execution_count": null,
   "id": "dd38b904",
   "metadata": {
    "scrolled": false
   },
   "outputs": [],
   "source": [
    "from matplotlib import ticker\n",
    "\n",
    "f, ax= plt.subplots(figsize = (20, 20))\n",
    "sns.set_context({\"figure.figsize\":(20,20)})\n",
    "chart = sns.heatmap(data=cloth,square=True,ax = ax) \n",
    "\n",
    "ax.set_xlabel('attention id',fontsize=18)\n",
    "ax.set_ylabel('Source Relation',fontsize=20)\n",
    "ax.tick_params(axis='x', labelsize=20)\n",
    "ax.tick_params(axis='y', labelsize=20)\n",
    "\n",
    "plt.savefig('attention_map/att_cloth_class.pdf', dpi=199,  bbox_inches='tight')"
   ]
  },
  {
   "cell_type": "code",
   "execution_count": null,
   "id": "e732cdf2",
   "metadata": {},
   "outputs": [],
   "source": [
    "from matplotlib import ticker\n",
    "\n",
    "f, ax= plt.subplots(figsize = (20, 20))\n",
    "sns.set_context({\"figure.figsize\":(20,20)})\n",
    "chart = sns.heatmap(data=home,square=True,ax = ax) \n",
    "\n",
    "ax.set_xlabel('attention id',fontsize=18)\n",
    "ax.set_ylabel('Source Relation',fontsize=20)\n",
    "ax.tick_params(axis='x', labelsize=20)\n",
    "ax.tick_params(axis='y', labelsize=20)\n",
    "\n",
    "plt.savefig('attention_map/att_home_class.pdf', dpi=199,  bbox_inches='tight')"
   ]
  },
  {
   "cell_type": "code",
   "execution_count": null,
   "id": "016805b2",
   "metadata": {},
   "outputs": [],
   "source": [
    "from matplotlib import ticker\n",
    "\n",
    "f, ax= plt.subplots(figsize = (20, 20))\n",
    "sns.set_context({\"figure.figsize\":(20,20)})\n",
    "chart = sns.heatmap(data=sports,square=True,ax = ax) \n",
    "\n",
    "ax.set_xlabel('attention id',fontsize=18)\n",
    "ax.set_ylabel('Source Relation',fontsize=20)\n",
    "ax.tick_params(axis='x', labelsize=20)\n",
    "ax.tick_params(axis='y', labelsize=20)\n",
    "\n",
    "plt.savefig('attention_map/att_sports_class.pdf', dpi=199,  bbox_inches='tight')"
   ]
  },
  {
   "cell_type": "code",
   "execution_count": null,
   "id": "566c3ef8",
   "metadata": {},
   "outputs": [],
   "source": []
  },
  {
   "cell_type": "code",
   "execution_count": null,
   "id": "974eb928",
   "metadata": {},
   "outputs": [],
   "source": []
  },
  {
   "cell_type": "code",
   "execution_count": null,
   "id": "a4d5f6cc",
   "metadata": {},
   "outputs": [],
   "source": []
  }
 ],
 "metadata": {
  "kernelspec": {
   "display_name": "Python 3 (ipykernel)",
   "language": "python",
   "name": "python3"
  },
  "language_info": {
   "codemirror_mode": {
    "name": "ipython",
    "version": 3
   },
   "file_extension": ".py",
   "mimetype": "text/x-python",
   "name": "python",
   "nbconvert_exporter": "python",
   "pygments_lexer": "ipython3",
   "version": "3.8.13"
  }
 },
 "nbformat": 4,
 "nbformat_minor": 5
}
